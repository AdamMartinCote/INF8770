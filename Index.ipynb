{
 "cells": [
  {
   "cell_type": "markdown",
   "metadata": {},
   "source": [
    "<h1>INF8770 Technologies multimédias</h1>\n",
    "\n",
    "<h2>Polytechnique Montréal</h2>"
   ]
  },
  {
   "cell_type": "markdown",
   "metadata": {},
   "source": [
    "<h2>Table des matières</h2>\n",
    "<h3>Exemples pour le chapitre 1</h3>\n",
    "\n",
    "* [Codage prédictif sur une image](Codage predictif sur image.ipynb)\n",
    "\n",
    "* [Codage par plage](Codage par plage.ipynb)\n",
    "\n",
    "* [Codage Huffman](Codage Huffman.ipynb)\n",
    "\n",
    "* [Codage arithmétique](Codage arithmétique.ipynb)\n",
    "\n",
    "* [Codage par paires d'octets](Codage par paires d'octets.ipynb)\n",
    "\n",
    "* [Codage LZW](Codage LZW.ipynb)\n",
    "\n",
    "<h3>Exemples pour le chapitre 2</h3>\n",
    "\n",
    "* [Floyd-Steinberg sur une image](Floyd-Steinberg sur image.ipynb)\n",
    "\n",
    "* [Floyd-Steinberg sur une matrice](Floyd-Steinberg sur matrice.ipynb)\n",
    "\n",
    "* [Transformée KL sur une image](Transformee KL sur image.ipynb)\n",
    "\n",
    "* [Transformée en cosinus discrète et quantification](Transformée DCT et quantification.ipynb)\n",
    "\n",
    "<h3>Exemples pour le chapitre 5</h3>\n",
    "\n",
    "* [Filtre anti-blocs](FiltreAntiBlocs.ipynb)\n",
    "\n",
    "* [SSIM vs PSNR](Évaluation de la qualité des images.ipynb)\n",
    "\n",
    "<h3>Exemples pour le chapitre 6</h3>\n",
    "\n",
    "* [Codage PCM](Codage PCM.ipynb)\n",
    "\n",
    "* [Codage modulation delta](Codage modulation delta.ipynb)\n",
    "\n",
    "* [Loi mu](Effet de la loi mu.ipynb)\n",
    "\n",
    "* [Codage Golomb-Rice](Codage Golomb-Rice.ipynb)\n",
    "\n",
    "<h3>Exemples pour le chapitre 8</h3>\n",
    "\n",
    "* [Fondu enchaîné](Fondu enchaine.ipynb)\n",
    "\n",
    "* [Calcul des gradients sur une matrice](Gradients sur matrice.ipynb)\n",
    "\n",
    "* [Calcul des gradients sur une image et extraction d'arêtes](Gradients et extraction d'arêtes sur une image.ipynb)\n",
    "\n",
    "* [Seuillage d'une image](Seuillage d'une image.ipynb)\n",
    "\n",
    "* [Segmentation d'une image avec la méthode des K-Moyennes](Segmentation d'une image.ipynb)\n",
    "\n",
    "* [Détection de la peau par distribution Gaussienne sur R et G](DetectiondePeau1.ipynb)\n",
    "\n",
    "* [Calcul de différences de Gaussiennes](Différences de Gaussiennes.ipynb)\n",
    "\n",
    "* [Extraction de points SIFT](Descripteurs SIFT.ipynb)\n",
    "\n",
    "* [Image DC](Image DC.ipynb)\n",
    "\n",
    "<h3>Exemples pour le chapitre 9</h3>\n",
    "\n",
    "* [Corrélation croisée sur des signaux](Utilisation de la correlation croisée.ipynb)\n",
    "\n",
    "* [Extraction de caractéristiques acoustiques](Caractéristiques acoustiques.ipynb)\n",
    "\n",
    "<h3>Exemples pour le chapitre 10</h3>\n",
    "\n",
    "* [Détection de la peau par la méthode Bayésienne](DetectiondePeau2.ipynb)"
   ]
  },
  {
   "cell_type": "markdown",
   "metadata": {},
   "source": [
    "Par Guillaume-Alexandre Bilodeau"
   ]
  }
 ],
 "metadata": {
  "kernelspec": {
   "display_name": "Python 3",
   "language": "python",
   "name": "python3"
  },
  "language_info": {
   "codemirror_mode": {
    "name": "ipython",
    "version": 3
   },
   "file_extension": ".py",
   "mimetype": "text/x-python",
   "name": "python",
   "nbconvert_exporter": "python",
   "pygments_lexer": "ipython3",
   "version": "3.6.3"
  }
 },
 "nbformat": 4,
 "nbformat_minor": 2
}
