{
 "cells": [
  {
   "cell_type": "markdown",
   "metadata": {},
   "source": [
    "<h1>INF8770 Technologies multimédias</h1>\n",
    "\n",
    "<h2>Polytechnique Montréal</h2>"
   ]
  },
  {
   "cell_type": "markdown",
   "metadata": {},
   "source": [
    "<h2>Table des matières</h2>\n",
    "<h3>Exemples pour le chapitre 1</h3>\n",
    "\n",
    "* [Codage prédictif sur une image](Codage predictif sur image.ipynb)\n",
    "\n",
    "<h3>Exemples pour le chapitre 2</h3>\n",
    "\n",
    "* [Floyd-Steinberg sur une image](Floyd-Steinberg sur image.ipynb)\n",
    "\n",
    "* [Floyd-Steinberg sur une matrice](Floyd-Steinberg sur matrice.ipynb)\n",
    "\n",
    "* [Transformée KL sur une image](Transformee KL sur image.ipynb)\n",
    "\n",
    "<h3>Exemples pour le chapitre 5</h3>\n",
    "\n",
    "* [Filtre anti-blocs](FiltreAntiBlocs.ipynb)\n",
    "\n",
    "<h3>Exemples pour le chapitre 6</h3>\n",
    "\n",
    "* [Codage PCM](Codage PCM.ipynb)\n",
    "\n",
    "* [Loi mu](Effet de la loi mu.ipynb)\n",
    "\n",
    "* [Codage Golombe-Rice](Codage Golombe-Rice.ipynb)\n",
    "\n",
    "<h3>Exemples pour le chapitre 8</h3>\n",
    "\n",
    "* [Fondu enchaîné](Fondu enchaine.ipynb)\n",
    "\n",
    "<h3>Exemples pour le chapitre 9</h3>\n",
    "\n",
    "* [Extraction de caractéristiques acoustiques](Caractéristiques acoustiques.ipynb)"
   ]
  },
  {
   "cell_type": "markdown",
   "metadata": {},
   "source": [
    "Par Guillaume-Alexandre Bilodeau"
   ]
  }
 ],
 "metadata": {
  "kernelspec": {
   "display_name": "Python 3",
   "language": "python",
   "name": "python3"
  },
  "language_info": {
   "codemirror_mode": {
    "name": "ipython",
    "version": 3
   },
   "file_extension": ".py",
   "mimetype": "text/x-python",
   "name": "python",
   "nbconvert_exporter": "python",
   "pygments_lexer": "ipython3",
   "version": "3.6.3"
  }
 },
 "nbformat": 4,
 "nbformat_minor": 2
}
