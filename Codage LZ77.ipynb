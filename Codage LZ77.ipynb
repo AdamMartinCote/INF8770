{
 "cells": [
  {
   "cell_type": "markdown",
   "metadata": {},
   "source": [
    "INF8770 Technologies multimédias\n",
    "\n",
    "Polytechnique Montréal\n",
    "\n",
    "Exemple de codage LZ77\n",
    "\n",
    "Code original par Hughes Perreault. Version Notebook par G.-A. Bilodeau"
   ]
  },
  {
   "cell_type": "markdown",
   "metadata": {},
   "source": [
    "Message à compresser. Ici, une chaine de caractères."
   ]
  },
  {
   "cell_type": "code",
   "execution_count": 122,
   "metadata": {},
   "outputs": [],
   "source": [
    "message = \"ABCABABABABABABABABABABABABABABABABABABABABAB\""
   ]
  },
  {
   "cell_type": "markdown",
   "metadata": {},
   "source": [
    "Paramètre de la méthode. Il faut choisir la taille du dictionnaire."
   ]
  },
  {
   "cell_type": "code",
   "execution_count": 123,
   "metadata": {},
   "outputs": [],
   "source": [
    "tailleDict = 20  # Taille du dictionnaire"
   ]
  },
  {
   "cell_type": "markdown",
   "metadata": {},
   "source": [
    "Application du codage LZ77."
   ]
  },
  {
   "cell_type": "code",
   "execution_count": 124,
   "metadata": {},
   "outputs": [
    {
     "name": "stdout",
     "output_type": "stream",
     "text": [
      "\n",
      "[(0, 0, 'A')]\n",
      "A\n",
      "[(0, 0, 'A'), (0, 0, 'B')]\n",
      "AB\n",
      "[(0, 0, 'A'), (0, 0, 'B'), (0, 0, 'C')]\n",
      "ABC\n",
      "[(0, 0, 'A'), (0, 0, 'B'), (0, 0, 'C'), (0, 2, 'A')]\n",
      "ABCABA\n",
      "[(0, 0, 'A'), (0, 0, 'B'), (0, 0, 'C'), (0, 2, 'A'), (4, 38, 'B')]\n"
     ]
    }
   ],
   "source": [
    "triplets = []  # Pour sauvegarder les triplets\n",
    "\n",
    "index = 0  # Position courante dans le message\n",
    "while index < len(message):\n",
    "    symbDict = message[max(0, index - tailleDict): index]  # Symboles disponibles du dictionnaire\n",
    "    print(symbDict)\n",
    "    sousChaine = message[index:len(message)-1] #Le dernier caractère sera ajouté comme 3e élément du dernier triplet\n",
    "\n",
    "    # On cherche la sous-chaine la plus longue\n",
    "    pos, length = 0, 0\n",
    "    while len(sousChaine) > 0:\n",
    "        if sousChaine in symbDict:\n",
    "            pos, length = symbDict.rfind(sousChaine), len(sousChaine) #dernière occurrence si plusieurs choix\n",
    "            break\n",
    "        sousChaine = sousChaine[:-1] # On a pas trouvé, donc on enlève un élément.\n",
    "\n",
    "    # Regarde ensuite si on peut allonger la sous-chaine trouvée après la position de l'index: AB|ABABABABAB\n",
    "    increment = 0\n",
    "    while length > 0 \\\n",
    "            and index+length+increment < (len(message)-1) \\\n",
    "            and message[index-len(symbDict)+pos+length+increment] == message[index+length+increment]:\n",
    "        increment += 1\n",
    "    length += increment\n",
    "\n",
    "    # Enregistrement des triplets\n",
    "    c = message[index + length]  #Caractère suivant non encodé.\n",
    "    triplets.append((pos, length, c))\n",
    "\n",
    "    index += max(length+1, 1)  # Avance la position dans le message\n",
    "\n",
    "    print(triplets)"
   ]
  },
  {
   "cell_type": "markdown",
   "metadata": {},
   "source": [
    "Décodage du message. "
   ]
  },
  {
   "cell_type": "code",
   "execution_count": 125,
   "metadata": {},
   "outputs": [
    {
     "name": "stdout",
     "output_type": "stream",
     "text": [
      "ABCABABABABABABABABABABABABABABABABABABABABAB\n",
      "True\n"
     ]
    }
   ],
   "source": [
    "messageDecode = ''\n",
    "for triplet in triplets:\n",
    "    pos, length, char = triplet[0], triplet[1], triplet[2]\n",
    "    if (pos, length) == (0, 0):\n",
    "        messageDecode += char\n",
    "    else:\n",
    "        start = max(0, len(messageDecode) - tailleDict)\n",
    "        for i in range(length):\n",
    "            messageDecode += messageDecode[start+pos+i]\n",
    "        messageDecode += char\n",
    "print(messageDecode)\n",
    "print(message == messageDecode)"
   ]
  },
  {
   "cell_type": "code",
   "execution_count": 126,
   "metadata": {},
   "outputs": [
    {
     "name": "stdout",
     "output_type": "stream",
     "text": [
      "Taux de compression:  0.6666666666666667\n"
     ]
    }
   ],
   "source": [
    "print('Taux de compression: ', 1 - (len(triplets) * 3) / (len(message))) \n",
    "#On suppose des octets pour position, longueur"
   ]
  },
  {
   "cell_type": "code",
   "execution_count": null,
   "metadata": {},
   "outputs": [],
   "source": []
  }
 ],
 "metadata": {
  "kernelspec": {
   "display_name": "Python 3",
   "language": "python",
   "name": "python3"
  },
  "language_info": {
   "codemirror_mode": {
    "name": "ipython",
    "version": 3
   },
   "file_extension": ".py",
   "mimetype": "text/x-python",
   "name": "python",
   "nbconvert_exporter": "python",
   "pygments_lexer": "ipython3",
   "version": "3.6.6"
  }
 },
 "nbformat": 4,
 "nbformat_minor": 2
}
