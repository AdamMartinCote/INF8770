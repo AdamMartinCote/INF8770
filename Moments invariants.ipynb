{
 "cells": [
  {
   "cell_type": "markdown",
   "metadata": {},
   "source": [
    "INF8770 Technologies multimédias \n",
    "\n",
    "Polytechnique Montréal\n",
    "\n",
    "Exemple de calcul des moments invariants"
   ]
  },
  {
   "cell_type": "code",
   "execution_count": 1,
   "metadata": {},
   "outputs": [],
   "source": [
    "import numpy as np\n",
    "import matplotlib.pyplot as plt\n",
    "import cv2\n",
    "import imutils"
   ]
  },
  {
   "cell_type": "markdown",
   "metadata": {},
   "source": [
    "Création d'une image binaire. Affichage."
   ]
  },
  {
   "cell_type": "code",
   "execution_count": 2,
   "metadata": {},
   "outputs": [
    {
     "data": {
      "image/png": "[encoded data removed]",
      "text/plain": [
       "<matplotlib.figure.Figure at 0x11ae7be10>"
      ]
     },
     "metadata": {},
     "output_type": "display_data"
    }
   ],
   "source": [
    "image = np.zeros((100,100))\n",
    "image[45:70,34:65] = 1\n",
    "plt.imshow(image, plt.get_cmap('binary'))\n",
    "plt.show()"
   ]
  },
  {
   "cell_type": "markdown",
   "metadata": {},
   "source": [
    "Aire de la forme. "
   ]
  },
  {
   "cell_type": "code",
   "execution_count": 3,
   "metadata": {},
   "outputs": [
    {
     "name": "stdout",
     "output_type": "stream",
     "text": [
      "775.0\n"
     ]
    }
   ],
   "source": [
    "moment00 = sum(sum(image))\n",
    "print(moment00)"
   ]
  },
  {
   "cell_type": "markdown",
   "metadata": {},
   "source": [
    "moment10 et moment01 de la forme. Calcul aussi des centres de masse. "
   ]
  },
  {
   "cell_type": "code",
   "execution_count": 4,
   "metadata": {},
   "outputs": [
    {
     "name": "stdout",
     "output_type": "stream",
     "text": [
      "44175.0\n",
      "37975.0\n",
      "57.0\n",
      "49.0\n"
     ]
    }
   ],
   "source": [
    "moment10 = 0.0\n",
    "moment01 = 0.0\n",
    "\n",
    "for i in range(0, len(image)):\n",
    "    for j in range(0, len(image[0])):\n",
    "        moment10 += i*image[i,j]\n",
    "        moment01 += j*image[i,j]\n",
    "        \n",
    "print(moment10)\n",
    "print(moment01)\n",
    "centrex = moment10 / moment00\n",
    "centrey = moment01 / moment00\n",
    "print(centrex)\n",
    "print(centrey)"
   ]
  },
  {
   "cell_type": "markdown",
   "metadata": {},
   "source": [
    "eta20, eta02, et eta11 invariant à la position et à l'échelle."
   ]
  },
  {
   "cell_type": "code",
   "execution_count": 5,
   "metadata": {},
   "outputs": [
    {
     "name": "stdout",
     "output_type": "stream",
     "text": [
      "0.06709677419354838\n",
      "0.1032258064516129\n",
      "0.0\n"
     ]
    }
   ],
   "source": [
    "eta20 = 0.0\n",
    "eta02 = 0.0\n",
    "eta11 = 0.0\n",
    "\n",
    "for i in range(0, len(image)):\n",
    "    for j in range(0, len(image[0])):\n",
    "        eta20 += (i-centrex)**2 * image[i,j] #Invariance à la position.\n",
    "        eta02 += (j-centrey)**2 * image[i,j]\n",
    "        eta11 += (i-centrex) * (j-centrey) * image[i,j]\n",
    "        \n",
    "eta20 = eta20 / moment00**2 #Invariance à l'échelle\n",
    "eta02 = eta02 / moment00**2 \n",
    "eta11 = eta11 / moment00**2\n",
    "\n",
    "print(eta20)\n",
    "print(eta02)\n",
    "print(eta11)"
   ]
  },
  {
   "cell_type": "markdown",
   "metadata": {},
   "source": [
    "Vérification avec opencv. Note: nuij correspond à $\\eta_{ij}$..."
   ]
  },
  {
   "cell_type": "code",
   "execution_count": 6,
   "metadata": {},
   "outputs": [
    {
     "name": "stdout",
     "output_type": "stream",
     "text": [
      "{'m00': 775.0, 'm10': 37975.0, 'm01': 44175.0, 'm20': 1922775.0, 'm11': 2164575.0, 'm02': 2558275.0, 'm30': 100291975.0, 'm21': 109598175.0, 'm12': 125355475.0, 'm03': 150415875.0, 'mu20': 62000.0, 'mu11': 0.0, 'mu02': 40300.0, 'mu30': 0.0, 'mu21': 0.0, 'mu12': 0.0, 'mu03': 0.0, 'nu20': 0.1032258064516129, 'nu11': 0.0, 'nu02': 0.06709677419354838, 'nu30': 0.0, 'nu21': 0.0, 'nu12': 0.0, 'nu03': 0.0}\n"
     ]
    }
   ],
   "source": [
    "moment = cv2.moments(image)\n",
    "print(moment)"
   ]
  },
  {
   "cell_type": "markdown",
   "metadata": {},
   "source": [
    "Calcul des moments de Hu"
   ]
  },
  {
   "cell_type": "code",
   "execution_count": 7,
   "metadata": {},
   "outputs": [
    {
     "name": "stdout",
     "output_type": "stream",
     "text": [
      "0.1703225806451613\n",
      "0.0013053069719042667\n"
     ]
    }
   ],
   "source": [
    "momentHu1 = eta20 + eta02\n",
    "momentHu2 = (eta20 - eta02)**2 + 4 * eta11**2\n",
    "print(momentHu1)\n",
    "print(momentHu2)"
   ]
  },
  {
   "cell_type": "markdown",
   "metadata": {},
   "source": [
    "Calcul avec opencv"
   ]
  },
  {
   "cell_type": "code",
   "execution_count": 8,
   "metadata": {},
   "outputs": [
    {
     "name": "stdout",
     "output_type": "stream",
     "text": [
      "[[0.17032258]\n",
      " [0.00130531]\n",
      " [0.        ]\n",
      " [0.        ]\n",
      " [0.        ]\n",
      " [0.        ]\n",
      " [0.        ]]\n"
     ]
    }
   ],
   "source": [
    "momentsHu = cv2.HuMoments(moment)\n",
    "print(momentsHu)"
   ]
  },
  {
   "cell_type": "markdown",
   "metadata": {},
   "source": [
    "Test de l'invariance aux translations."
   ]
  },
  {
   "cell_type": "code",
   "execution_count": 9,
   "metadata": {},
   "outputs": [
    {
     "data": {
      "image/png": "[encoded data removed]",
      "text/plain": [
       "<matplotlib.figure.Figure at 0x1230a9c18>"
      ]
     },
     "metadata": {},
     "output_type": "display_data"
    },
    {
     "name": "stdout",
     "output_type": "stream",
     "text": [
      "{'m00': 775.0, 'm10': 41850.0, 'm01': 51925.0, 'm20': 2321900.0, 'm11': 2803950.0, 'm02': 3519275.0, 'm30': 132078600.0, 'm21': 155567300.0, 'm12': 190040850.0, 'm03': 241191625.0, 'mu20': 62000.0, 'mu11': 0.0, 'mu02': 40300.0, 'mu30': 0.0, 'mu21': 0.0, 'mu12': 0.0, 'mu03': 0.0, 'nu20': 0.1032258064516129, 'nu11': 0.0, 'nu02': 0.06709677419354838, 'nu30': 0.0, 'nu21': 0.0, 'nu12': 0.0, 'nu03': 0.0}\n"
     ]
    }
   ],
   "source": [
    "image = np.zeros((100,100))\n",
    "image[55:80,39:70] = 1 #Translation en x et y\n",
    "plt.imshow(image, plt.get_cmap('binary'))\n",
    "plt.show()\n",
    "moment = cv2.moments(image)\n",
    "print(moment)"
   ]
  },
  {
   "cell_type": "markdown",
   "metadata": {},
   "source": [
    "mij ne sont pas invariants aux rotations, car on ne soustrait pas le centre de centre. Les muij soustraient le centre. On voit que les résultats sont similaires à ceux précédents. Même chose pour nuij. Testons l'invariance à la rotation.  "
   ]
  },
  {
   "cell_type": "code",
   "execution_count": 10,
   "metadata": {},
   "outputs": [
    {
     "data": {
      "image/png": "[encoded data removed]",
      "text/plain": [
       "<matplotlib.figure.Figure at 0x123127780>"
      ]
     },
     "metadata": {},
     "output_type": "display_data"
    },
    {
     "name": "stdout",
     "output_type": "stream",
     "text": [
      "{'m00': 774.8955078125, 'm10': 44085.044921875, 'm01': 51178.0810546875, 'm20': 2569523.86328125, 'm11': 2907897.392578125, 'm02': 3421141.2744140625, 'm30': 153176874.7421875, 'm21': 169282877.10546875, 'm12': 194144825.99023438, 'm03': 231375729.0263672, 'mu20': 61455.14153818926, 'mu11': -3705.500411137473, 'mu02': 41077.82839660812, 'mu30': -10.521272957324982, 'mu21': -58.361665366217494, 'mu12': 87.18469202751294, 'mu03': -1.6319489479064941, 'nu20': 0.10234625051452685, 'nu11': -0.0061710715144035495, 'nu02': 0.06841025194058764, 'nu30': -6.294488287117647e-07, 'nu21': -3.4915624806462163e-06, 'nu12': 5.215937510689455e-06, 'nu03': -9.763346678141032e-08}\n"
     ]
    }
   ],
   "source": [
    "imagemodif = imutils.rotate(image, 10)\n",
    "plt.imshow(imagemodif, plt.get_cmap('binary'))\n",
    "plt.show()\n",
    "moment = cv2.moments(imagemodif)\n",
    "print(moment)"
   ]
  },
  {
   "cell_type": "markdown",
   "metadata": {},
   "source": [
    "À cause des erreurs d'interpolation les valeurs changent légèrement. On constate quand même la robustesse aux rotations. Testons l'invariance à la mise à l'échelle."
   ]
  },
  {
   "cell_type": "code",
   "execution_count": 11,
   "metadata": {},
   "outputs": [
    {
     "data": {
      "image/png": "[encoded data removed]",
      "text/plain": [
       "<matplotlib.figure.Figure at 0x12326d6a0>"
      ]
     },
     "metadata": {},
     "output_type": "display_data"
    },
    {
     "name": "stdout",
     "output_type": "stream",
     "text": [
      "{'m00': 3100.0, 'm10': 336350.0, 'm01': 416950.0, 'm20': 37486750.0, 'm11': 45239075.0, 'm02': 56725350.0, 'm30': 4282744550.0, 'm21': 5041967875.0, 'm12': 6154700475.0, 'm03': 7803219250.0, 'mu20': 992775.0, 'mu11': 0.0, 'mu02': 645575.0, 'mu30': 0.0, 'mu21': 0.0, 'mu12': 0.0, 'mu03': 0.0, 'nu20': 0.10330645161290322, 'nu11': 0.0, 'nu02': 0.0671774193548387, 'nu30': 0.0, 'nu21': 0.0, 'nu12': 0.0, 'nu03': 0.0}\n"
     ]
    }
   ],
   "source": [
    "imagemodif2 = imutils.resize(image, 200) #L'image sera 2 fois plus grosses.\n",
    "plt.imshow(imagemodif2, plt.get_cmap('binary'))\n",
    "plt.show()\n",
    "moment = cv2.moments(imagemodif2)\n",
    "print(moment)"
   ]
  },
  {
   "cell_type": "markdown",
   "metadata": {},
   "source": [
    "Ici, seules les valeurs de nuij seront similaires, car on divise par une puissance de l'aire."
   ]
  },
  {
   "cell_type": "code",
   "execution_count": null,
   "metadata": {},
   "outputs": [],
   "source": []
  }
 ],
 "metadata": {
  "kernelspec": {
   "display_name": "Python 3",
   "language": "python",
   "name": "python3"
  },
  "language_info": {
   "codemirror_mode": {
    "name": "ipython",
    "version": 3
   },
   "file_extension": ".py",
   "mimetype": "text/x-python",
   "name": "python",
   "nbconvert_exporter": "python",
   "pygments_lexer": "ipython3",
   "version": "3.6.3"
  }
 },
 "nbformat": 4,
 "nbformat_minor": 2
}
