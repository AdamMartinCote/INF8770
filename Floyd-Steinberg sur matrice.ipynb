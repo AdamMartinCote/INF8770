{
 "cells": [
  {
   "cell_type": "code",
   "execution_count": null,
   "metadata": {
    "collapsed": true
   },
   "outputs": [],
   "source": [
    "from tabulate import tabulate"
   ]
  },
  {
   "cell_type": "markdown",
   "metadata": {},
   "source": [
    "Exemple de l'application de la méthode Floyd-Steinberg sur une matrice\n",
    "\n",
    "Création d'une image synthétique"
   ]
  },
  {
   "cell_type": "code",
   "execution_count": 11,
   "metadata": {},
   "outputs": [
    {
     "name": "stdout",
     "output_type": "stream",
     "text": [
      "[[100, 100, 100, 100, 100], [100, 100, 100, 100, 100]]\n"
     ]
    }
   ],
   "source": [
    "\n",
    "image=[[100,100,100,100,100],[100,100,100,100,100]]\n",
    "print image"
   ]
  },
  {
   "cell_type": "markdown",
   "metadata": {},
   "source": [
    "Attribution de l'étiquette et calcul de l'erreur"
   ]
  },
  {
   "cell_type": "code",
   "execution_count": 12,
   "metadata": {},
   "outputs": [
    {
     "name": "stdout",
     "output_type": "stream",
     "text": [
      "------  ------  ---  ---  ---\n",
      "  0     143.75  100  100  100\n",
      "131.25  106.25  100  100  100\n",
      "------  ------  ---  ---  ---\n",
      "\n",
      "-------  --------  -------  ---  ---\n",
      "  0      255       51.3281  100  100\n",
      "110.391   71.4844  93.0469  100  100\n",
      "-------  --------  -------  ---  ---\n",
      "\n",
      "-------  --------  -------  -------  ---\n",
      "  0      255         0      122.456  100\n",
      "110.391   81.1084  109.087  103.208  100\n",
      "-------  --------  -------  -------  ---\n",
      "\n",
      "-------  --------  -------  -------  -------\n",
      "  0      255         0        0      153.575\n",
      "110.391   81.1084  132.047  141.476  107.654\n",
      "-------  --------  -------  -------  -------\n",
      "\n",
      "-------  --------  -------  -------  -------\n",
      "  0      255         0        0      255\n",
      "110.391   81.1084  132.047  122.458   75.958\n",
      "-------  --------  -------  -------  -------\n",
      "\n",
      "-  -------  -------  -------  -------\n",
      "0  255        0        0      255\n",
      "0  129.404  132.047  122.458   75.958\n",
      "-  -------  -------  -------  -------\n",
      "\n",
      "-  ---  -------  -------  -------\n",
      "0  255   0         0      255\n",
      "0  255  77.0993  122.458   75.958\n",
      "-  ---  -------  -------  -------\n",
      "\n",
      "-  ---  -  -------  -------\n",
      "0  255  0    0      255\n",
      "0  255  0  156.189   75.958\n",
      "-  ---  -  -------  -------\n",
      "\n",
      "-  ---  -  ---  --------\n",
      "0  255  0    0  255\n",
      "0  255  0  255   32.7283\n",
      "-  ---  -  ---  --------\n",
      "\n",
      "-  ---  -  ---  ---\n",
      "0  255  0    0  255\n",
      "0  255  0  255    0\n",
      "-  ---  -  ---  ---\n",
      "\n"
     ]
    }
   ],
   "source": [
    "for i in range(len(image)):\n",
    "    for j in range(len(image[0])):\n",
    "        temp=image[i][j]\n",
    "        if (temp-0)<(255-temp):\n",
    "            image[i][j]=0\n",
    "        else:\n",
    "            image[i][j]=255\n",
    "        erreur=temp-image[i][j]\n",
    "        #Diffusion de l'erreur et affichage du résultat intermédiaire\n",
    "        if (j+1)<len(image[0]):\n",
    "            image[i][j+1]=image[i][j+1]+0.4375*erreur\n",
    "        if (j-1)>=0 and (i+1)<len(image):\n",
    "            image[i+1][j-1]=image[i+1][j-1]+0.1875*erreur\n",
    "        if (i+1)<len(image):\n",
    "            image[i+1][j]=image[i+1][j]+0.3125*erreur\n",
    "        if (j+1)<len(image[0]) and (i+1)<len(image):\n",
    "            image[i+1][j+1]=image[i+1][j+1]+0.0625*erreur\n",
    "        print tabulate(image)\n",
    "        print"
   ]
  },
  {
   "cell_type": "code",
   "execution_count": null,
   "metadata": {
    "collapsed": true
   },
   "outputs": [],
   "source": []
  }
 ],
 "metadata": {
  "kernelspec": {
   "display_name": "Python 3",
   "language": "python",
   "name": "python3"
  },
  "language_info": {
   "codemirror_mode": {
    "name": "ipython",
    "version": 2
   },
   "file_extension": ".py",
   "mimetype": "text/x-python",
   "name": "python",
   "nbconvert_exporter": "python",
   "pygments_lexer": "ipython2",
   "version": "2.7.14"
  }
 },
 "nbformat": 4,
 "nbformat_minor": 2
}
