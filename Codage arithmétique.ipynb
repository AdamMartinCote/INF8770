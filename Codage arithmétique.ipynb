{
 "cells": [
  {
   "cell_type": "markdown",
   "metadata": {},
   "source": [
    "INF8770 Technologies multimédias\n",
    "\n",
    "Polytechnique Montréal\n",
    "\n",
    "Exemple de codage arithmétique"
   ]
  },
  {
   "cell_type": "code",
   "execution_count": 1,
   "metadata": {},
   "outputs": [],
   "source": [
    "import numpy as np"
   ]
  },
  {
   "cell_type": "markdown",
   "metadata": {},
   "source": [
    "Message à coder. On codera seulement les SymbACoder premiers symboles. Limite des float. Sinon, on peut utiliser des bigfloat. "
   ]
  },
  {
   "cell_type": "code",
   "execution_count": 2,
   "metadata": {},
   "outputs": [],
   "source": [
    "Message = \"ABAABCABACABBABCDAADAAABABAAABAABBABABAABAAB\"\n",
    "SymbACoder = 10"
   ]
  },
  {
   "cell_type": "markdown",
   "metadata": {},
   "source": [
    "Calcul des probabilités de chaque symbole."
   ]
  },
  {
   "cell_type": "code",
   "execution_count": 3,
   "metadata": {},
   "outputs": [],
   "source": [
    "ProbSymb =[[Message[0], Message.count(Message[0])/len(Message)]]\n",
    "nbsymboles = 1\n",
    "\n",
    "for i in range(1,len(Message)):\n",
    "    if not list(filter(lambda x: x[0] == Message[i], ProbSymb)):\n",
    "        ProbSymb += [[Message[i], ProbSymb[-1][1]+Message.count(Message[i])/len(Message)]]\n",
    "        nbsymboles += 1\n",
    "        \n",
    "longueurOriginale = np.ceil(np.log2(nbsymboles))*SymbACoder "
   ]
  },
  {
   "cell_type": "code",
   "execution_count": 4,
   "metadata": {},
   "outputs": [
    {
     "name": "stdout",
     "output_type": "stream",
     "text": [
      "[['A', 0.5454545454545454], ['B', 0.8863636363636362], ['C', 0.9545454545454544], ['D', 0.9999999999999998]]\n"
     ]
    }
   ],
   "source": [
    "print(ProbSymb)"
   ]
  },
  {
   "cell_type": "markdown",
   "metadata": {},
   "source": [
    "Codage du message. On divise successivement l'intervalle représentant le symbole à coder."
   ]
  },
  {
   "cell_type": "code",
   "execution_count": 5,
   "metadata": {},
   "outputs": [
    {
     "name": "stdout",
     "output_type": "stream",
     "text": [
      "[['', 0], ['A', 0.5454545454545454], ['B', 0.8863636363636362], ['C', 0.9545454545454544], ['D', 0.9999999999999998]]\n",
      "A  est dans l'intervalle 1  de  0  à  0.5454545454545454\n",
      "\n",
      "[['', 0], ['A', 0.29752066115702475], ['B', 0.4834710743801652], ['C', 0.5206611570247932], ['D', 0.5454545454545453]]\n",
      "B  est dans l'intervalle 2  de  0.29752066115702475  à  0.4834710743801652\n",
      "\n",
      "[['', 0.29752066115702475], ['A', 0.3989481592787377], ['B', 0.4623403456048083], ['C', 0.4750187828700224], ['D', 0.4834710743801651]]\n",
      "A  est dans l'intervalle 1  de  0.29752066115702475  à  0.3989481592787377\n",
      "\n",
      "[['', 0.29752066115702475], ['A', 0.35284475104159546], ['B', 0.38742230721945214], ['C', 0.39433781845502347], ['D', 0.3989481592787377]]\n",
      "A  est dans l'intervalle 1  de  0.29752066115702475  à  0.35284475104159546\n",
      "\n",
      "[['', 0.29752066115702475], ['A', 0.3276974374576997], ['B', 0.3465579226456215], ['C', 0.3503300196832059], ['D', 0.35284475104159546]]\n",
      "B  est dans l'intervalle 2  de  0.3276974374576997  à  0.3465579226456215\n",
      "\n",
      "[['', 0.3276974374576997], ['A', 0.3379849748329298], ['B', 0.3444146856924486], ['C', 0.34570062786435235], ['D', 0.3465579226456215]]\n",
      "C  est dans l'intervalle 3  de  0.3444146856924486  à  0.34570062786435235\n",
      "\n",
      "[['', 0.3444146856924486], ['A', 0.3451161086953052], ['B', 0.34555449807209054], ['C', 0.3456421759474476], ['D', 0.34570062786435235]]\n",
      "A  est dans l'intervalle 1  de  0.3444146856924486  à  0.3451161086953052\n",
      "\n",
      "[['', 0.3444146856924486], ['A', 0.3447972800576431], ['B', 0.34503640153588966], ['C', 0.34508422583153897], ['D', 0.3451161086953052]]\n",
      "B  est dans l'intervalle 2  de  0.3447972800576431  à  0.34503640153588966\n",
      "\n",
      "[['', 0.3447972800576431], ['A', 0.3449277099548685], ['B', 0.3450092286406344], ['C', 0.34502553237778755], ['D', 0.34503640153588966]]\n"
     ]
    }
   ],
   "source": [
    "Code = ProbSymb[:]\n",
    "Code = [['', 0]] + ProbSymb[:]\n",
    "print(Code)\n",
    "for i in range(8): \n",
    "    #Cherche dans quel intervalle est le symbole à coder\n",
    "    temp = list(filter(lambda x: x[0] == Message[i], Code))\n",
    "    indice = Code.index(temp[0])\n",
    "\n",
    "    #Calcul des bornes pour coder le caractère\n",
    "    Debut = Code[indice-1][1]\n",
    "    Plage = Code[indice][1] - Debut\n",
    "    print(Message[i], ' est dans l\\'intervalle', indice, ' de ', Debut, ' à ', Debut + Plage)\n",
    "    print()      \n",
    "    #Nouveaux intervalles pour coder le prochain symbole\n",
    "    Code = [['', Debut]]  \n",
    "    for j in range(len(ProbSymb)):\n",
    "        Code += [[ProbSymb[j][0], Debut+ProbSymb[j][1]*Plage]]\n",
    "          \n",
    "    print(Code)"
   ]
  },
  {
   "cell_type": "markdown",
   "metadata": {},
   "source": [
    "On choisit une valeur dans l'intervalle final. On cherche la valeur qui prend le moins de bits. On fait la somme de puissance négative de 2."
   ]
  },
  {
   "cell_type": "code",
   "execution_count": 6,
   "metadata": {},
   "outputs": [
    {
     "name": "stdout",
     "output_type": "stream",
     "text": [
      "0.344970703125\n"
     ]
    }
   ],
   "source": [
    "ok = True\n",
    "valfinal = 0\n",
    "p = 0\n",
    "while ok:\n",
    "    p += 1\n",
    "    #Essayer différentes sommes de puissance négative de 2\n",
    "    valfinal += np.power(2.0,-p)\n",
    "    if valfinal > (Debut + Plage):\n",
    "        valfinal -= np.power(2.0,-p) #Hors de la borne maximale, on annule l'ajout.\n",
    "    elif valfinal > Debut :\n",
    "        ok = False\n",
    "\n",
    "print(valfinal)"
   ]
  },
  {
   "cell_type": "markdown",
   "metadata": {},
   "source": [
    "Conversion en bits pour évaluer la compression."
   ]
  },
  {
   "cell_type": "code",
   "execution_count": 7,
   "metadata": {},
   "outputs": [
    {
     "name": "stdout",
     "output_type": "stream",
     "text": [
      "1.0110000101p-10\n"
     ]
    }
   ],
   "source": [
    "#Table hex vers binaire\n",
    "hex2bin = dict('{:x} {:04b}'.format(x,x).split() for x in range(16))\n",
    "\n",
    "def float_dec2bin(d):\n",
    "    hx = float(d).hex() #Conversion float vers hex\n",
    "    p = hx.index('p')\n",
    "    #Conversion hex vers bin avec la table\n",
    "    bn = ''.join(hex2bin.get(char, char) for char in hx[2:p])\n",
    "    return ( bn.strip('0') + hx[p:p+2]\n",
    "            + bin(int(hx[p+2:]))[2:])\n",
    "\n",
    "messagecode = float_dec2bin(valfinal)\n",
    "print(messagecode)"
   ]
  },
  {
   "cell_type": "markdown",
   "metadata": {},
   "source": [
    "Longueur en bits du message codé et celle de l'original"
   ]
  },
  {
   "cell_type": "code",
   "execution_count": 8,
   "metadata": {},
   "outputs": [
    {
     "name": "stdout",
     "output_type": "stream",
     "text": [
      "Longueur = 14\n",
      "Longueur originale = 20.0\n"
     ]
    }
   ],
   "source": [
    "longueur = messagecode.count('0') + messagecode.count('1') + messagecode.count('-') \n",
    "print(\"Longueur = {0}\".format(longueur))\n",
    "print(\"Longueur originale = {0}\".format(longueurOriginale))"
   ]
  },
  {
   "cell_type": "code",
   "execution_count": null,
   "metadata": {},
   "outputs": [],
   "source": []
  }
 ],
 "metadata": {
  "kernelspec": {
   "display_name": "Python 3",
   "language": "python",
   "name": "python3"
  },
  "language_info": {
   "codemirror_mode": {
    "name": "ipython",
    "version": 3
   },
   "file_extension": ".py",
   "mimetype": "text/x-python",
   "name": "python",
   "nbconvert_exporter": "python",
   "pygments_lexer": "ipython3",
   "version": "3.6.3"
  }
 },
 "nbformat": 4,
 "nbformat_minor": 2
}
