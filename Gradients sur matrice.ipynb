{
 "cells": [
  {
   "cell_type": "markdown",
   "metadata": {},
   "source": [
    "INF8770 Technologies multimédias\n",
    "\n",
    "Polytechnique Montréal\n",
    "\n",
    "Exemple du calcul de gradients et d'extraction d'arêtes "
   ]
  },
  {
   "cell_type": "code",
   "execution_count": 1,
   "metadata": {},
   "outputs": [],
   "source": [
    "import numpy as np"
   ]
  },
  {
   "cell_type": "markdown",
   "metadata": {},
   "source": [
    "Matrice 3 x 3. On calculera les gradients pour la valeur du centre."
   ]
  },
  {
   "cell_type": "code",
   "execution_count": 2,
   "metadata": {},
   "outputs": [
    {
     "name": "stdout",
     "output_type": "stream",
     "text": [
      "[[50, 60, 35], [10, 30, 15], [50, 70, 30]]\n"
     ]
    }
   ],
   "source": [
    "Matrice = [[50,60,35],[10,30,15],[50,70,30]]\n",
    "print(Matrice)"
   ]
  },
  {
   "cell_type": "markdown",
   "metadata": {},
   "source": [
    "Calcul du gradient."
   ]
  },
  {
   "cell_type": "code",
   "execution_count": 3,
   "metadata": {},
   "outputs": [
    {
     "name": "stdout",
     "output_type": "stream",
     "text": [
      "25.0\n",
      "-15.0\n"
     ]
    }
   ],
   "source": [
    "Gx = 0\n",
    "Gy = 0\n",
    "#Filtres Sobel\n",
    "Sobelx= [[-1.0,0.0,1.0],[-2.0,0.0,2.0],[-1.0,0.0,1.0]]\n",
    "Sobely= [[-1.0,-2.0,-1.0],[0.0,0.0,0.0],[1.0,2.0,1.0]]\n",
    "for i in range(-1,2):\n",
    "    for j in range(-1,2):\n",
    "        #Convolutions. On calcule en X et Y simultanément. \n",
    "        Gx += np.multiply(Sobelx[i+1][j+1],Matrice[1-i][1-j])\n",
    "        Gy += np.multiply(Sobely[i+1][j+1],Matrice[1-i][1-j])\n",
    "        \n",
    "print(Gx)\n",
    "print(Gy)"
   ]
  },
  {
   "cell_type": "markdown",
   "metadata": {},
   "source": [
    "Force et angle du gradient:"
   ]
  },
  {
   "cell_type": "code",
   "execution_count": 4,
   "metadata": {},
   "outputs": [
    {
     "name": "stdout",
     "output_type": "stream",
     "text": [
      "29.154759474226502\n",
      "-30.96375653207352\n"
     ]
    }
   ],
   "source": [
    "ForceGradient = np.sqrt(np.power(Gx,2)+np.power(Gy,2))\n",
    "AngleGradient = np.arctan2(Gy,Gx)* 180 / np.pi\n",
    "\n",
    "print(ForceGradient)\n",
    "print(AngleGradient)"
   ]
  },
  {
   "cell_type": "code",
   "execution_count": null,
   "metadata": {},
   "outputs": [],
   "source": []
  }
 ],
 "metadata": {
  "kernelspec": {
   "display_name": "Python 3",
   "language": "python",
   "name": "python3"
  },
  "language_info": {
   "codemirror_mode": {
    "name": "ipython",
    "version": 3
   },
   "file_extension": ".py",
   "mimetype": "text/x-python",
   "name": "python",
   "nbconvert_exporter": "python",
   "pygments_lexer": "ipython3",
   "version": "3.6.3"
  }
 },
 "nbformat": 4,
 "nbformat_minor": 2
}
